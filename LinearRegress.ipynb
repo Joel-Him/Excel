{
  "nbformat": 4,
  "nbformat_minor": 0,
  "metadata": {
    "colab": {
      "provenance": [],
      "toc_visible": true,
      "authorship_tag": "ABX9TyNOmgSMkPHfczI4dIbVSPOI",
      "include_colab_link": true
    },
    "kernelspec": {
      "name": "python3",
      "display_name": "Python 3"
    },
    "language_info": {
      "name": "python"
    }
  },
  "cells": [
    {
      "cell_type": "markdown",
      "metadata": {
        "id": "view-in-github",
        "colab_type": "text"
      },
      "source": [
        "<a href=\"https://colab.research.google.com/github/Joel-Him/Excel/blob/main/LinearRegress.ipynb\" target=\"_parent\"><img src=\"https://colab.research.google.com/assets/colab-badge.svg\" alt=\"Open In Colab\"/></a>"
      ]
    },
    {
      "cell_type": "code",
      "execution_count": null,
      "metadata": {
        "id": "v776EFF3hSe3"
      },
      "outputs": [],
      "source": [
        "from google.colab import files\n",
        "files.upload()"
      ]
    },
    {
      "cell_type": "code",
      "source": [
        "import pandas as pd\n",
        "import statsmodels.api as sm\n",
        "\n",
        "\n",
        "df = pd.read_excel(\"04 Sub1aV.xls\")\n",
        "#df = pd.read_csv(\"https://drive.google.com/file/d/1Q1OKfbHsv7vWvkAlivysbkIH15Y_fq70/view?usp=drive_link\")\n",
        "x = df['t1'].head(20)\n",
        "y = df['Valor'].head(20)\n",
        "\n",
        "# Agregar una constante (intercepto) a la matriz X\n",
        "X = sm.add_constant(x)\n",
        "\n",
        "# Crear el modelo de regresión lineal\n",
        "model = sm.OLS(y, X).fit()\n",
        "\n",
        "# Obtener los parámetros del modelo\n",
        "coeficientes = model.params\n",
        "\n",
        "# Imprimir la ecuación de la línea recta\n",
        "intercepto, pendiente = coeficientes[0], coeficientes[1]\n",
        "print(f\"Ecuación de la línea recta: y = {pendiente:.2f}x + {intercepto:.2f}\")\n",
        "model.summary()"
      ],
      "metadata": {
        "id": "FACzyyEVnt1r"
      },
      "execution_count": null,
      "outputs": []
    },
    {
      "cell_type": "code",
      "source": [
        "df.describe()\n",
        "#stat\n",
        "#p_valor\n",
        "#print(f\"Ecuación de la línea recta: y = {stat:.2f}x + {p_valor:.2f}\")\n"
      ],
      "metadata": {
        "id": "A0o4x7XqErsf"
      },
      "execution_count": null,
      "outputs": []
    },
    {
      "cell_type": "code",
      "source": [
        "from scipy import stats\n",
        "stats.shapiro(df['Valor'])"
      ],
      "metadata": {
        "id": "DMr6nCCxQgd_",
        "colab": {
          "base_uri": "https://localhost:8080/"
        },
        "outputId": "d5828e87-3cfc-4b96-a296-da7d48c2bc1d"
      },
      "execution_count": null,
      "outputs": [
        {
          "output_type": "execute_result",
          "data": {
            "text/plain": [
              "ShapiroResult(statistic=0.9368817806243896, pvalue=0.20922426879405975)"
            ]
          },
          "metadata": {},
          "execution_count": 5
        }
      ]
    },
    {
      "cell_type": "code",
      "source": [
        "X_test = x  # Nuevos datos independientes\n",
        "\n",
        "# Agregar una constante (intercepto) a la matriz X_test\n",
        "X_test = sm.add_constant(X_test)\n",
        "\n",
        "# Obtener valores predictivos para los nuevos datos\n",
        "y_pred = model.predict(X_test)\n",
        "y_pred"
      ],
      "metadata": {
        "id": "Jy5yVDEUHBdR"
      },
      "execution_count": null,
      "outputs": []
    },
    {
      "cell_type": "code",
      "source": [
        "dif = abs(y - y_pred)\n",
        "mae_rl = sum(dif)/len(dif)\n",
        "mae_rl"
      ],
      "metadata": {
        "id": "2NT0k2GfIrws"
      },
      "execution_count": null,
      "outputs": []
    },
    {
      "cell_type": "code",
      "source": [
        "import matplotlib.pyplot as plt\n",
        "min_x = min(x)\n",
        "max_x = max(x)\n",
        "min_y = min(y)\n",
        "max_y = max(y)\n",
        "\n",
        "# Crear un gráfico de dispersión con líneas que conectan los mínimos y máximos\n",
        "plt.plot([min_x, max_x], [min_y, max_y], df['Valor'])\n",
        "\n",
        "plt.scatter(x, y)\n",
        "\n",
        "# Etiquetas de los ejes\n",
        "plt.xlabel('Eje X')\n",
        "plt.ylabel('Eje Y')\n",
        "\n",
        "# Mostrar el gráfico\n",
        "plt.show()\n",
        "#df.plot()"
      ],
      "metadata": {
        "id": "cmSCNPdIrIIF"
      },
      "execution_count": null,
      "outputs": []
    }
  ]
}